{
 "cells": [
  {
   "cell_type": "code",
   "execution_count": 1,
   "metadata": {},
   "outputs": [],
   "source": [
    "import numpy as np\n",
    "import pandas as pd\n",
    "import geopandas as gp\n",
    "import json\n",
    "from shapely.geometry import LineString, Polygon, Point\n",
    "from shapely import wkt\n",
    "\n",
    "import utils\n",
    "\n",
    "import matplotlib.pyplot as plt\n",
    "%matplotlib inline"
   ]
  },
  {
   "cell_type": "code",
   "execution_count": 2,
   "metadata": {},
   "outputs": [],
   "source": [
    "data2015 = pd.read_csv('MyLA311_Service_Request_Data_2015.csv')"
   ]
  },
  {
   "cell_type": "markdown",
   "metadata": {},
   "source": [
    "Convert to datetime and fill in placeholders"
   ]
  },
  {
   "cell_type": "code",
   "execution_count": 3,
   "metadata": {},
   "outputs": [],
   "source": [
    "utils.to_datetime(data2015)"
   ]
  },
  {
   "cell_type": "code",
   "execution_count": 4,
   "metadata": {},
   "outputs": [],
   "source": [
    "utils.fill_placeholder_1900_col(data2015)"
   ]
  },
  {
   "cell_type": "markdown",
   "metadata": {},
   "source": [
    "Add datediff columns"
   ]
  },
  {
   "cell_type": "code",
   "execution_count": 5,
   "metadata": {},
   "outputs": [],
   "source": [
    "utils.add_datediff_cols(data2015)"
   ]
  },
  {
   "cell_type": "code",
   "execution_count": 21,
   "metadata": {},
   "outputs": [],
   "source": [
    "# utils.to_geom(data2015) - not needed - can just use geodf"
   ]
  },
  {
   "cell_type": "code",
   "execution_count": 35,
   "metadata": {},
   "outputs": [],
   "source": [
    "gdf = gp.GeoDataFrame(\n",
    "    data2015, geometry=gp.points_from_xy(data2015.Longitude, data2015.Latitude),crs={'init':'epsg:4326'})"
   ]
  },
  {
   "cell_type": "code",
   "execution_count": 32,
   "metadata": {},
   "outputs": [
    {
     "data": {
      "text/plain": [
       "11118"
      ]
     },
     "execution_count": 32,
     "metadata": {},
     "output_type": "execute_result"
    }
   ],
   "source": [
    "len(gdf.ServiceDate.index) - len(gdf.ServiceDate.dropna().index)"
   ]
  },
  {
   "cell_type": "code",
   "execution_count": 36,
   "metadata": {},
   "outputs": [
    {
     "name": "stdout",
     "output_type": "stream",
     "text": [
      "{'init': 'epsg:4326'}\n"
     ]
    }
   ],
   "source": [
    "print(gdf.crs)"
   ]
  },
  {
   "cell_type": "code",
   "execution_count": 120,
   "metadata": {},
   "outputs": [
    {
     "data": {
      "text/plain": [
       "array([ True,  True,  True, ..., False, False, False])"
      ]
     },
     "execution_count": 120,
     "metadata": {},
     "output_type": "execute_result"
    }
   ],
   "source": [
    "gdf.geometry.distance(gdf.geometry.iloc[0]).sort_values().values < 1E-3"
   ]
  },
  {
   "cell_type": "markdown",
   "metadata": {},
   "source": [
    "What do we want?\n",
    "- step by each row\n",
    "    - use create and closed/service dates to get a subdf\n",
    "        - if no closed date, consider all records from CreatedDate onwards\n",
    "    - location match within subdf\n",
    "    - requesttype match within subdf\n",
    "    - check how far apart closeddates are to matches"
   ]
  },
  {
   "cell_type": "code",
   "execution_count": 138,
   "metadata": {},
   "outputs": [],
   "source": [
    "def find_potential_matches(row,df):\n",
    "    \n",
    "    if pd.isnull(row.ClosedDate):\n",
    "        closed = pd.to_datetime('2019-09-01')\n",
    "    else:\n",
    "        closed = row.ClosedDate\n",
    "    \n",
    "    return df.query(f'\"{row.CreatedDate}\" < CreatedDate < \"{closed}\" & \\\n",
    "                      RequestType == \"{row.RequestType}\"')\n",
    "    \n",
    "    #return df[(df.CreatedDate > row.CreatedDate) & (df.CreatedDate < closed)]\n",
    "\n",
    "def loc_filter(loc,subdf):\n",
    "    return subdf[subdf.distance(loc).values < 1E-3]"
   ]
  },
  {
   "cell_type": "code",
   "execution_count": 139,
   "metadata": {},
   "outputs": [
    {
     "name": "stdout",
     "output_type": "stream",
     "text": [
      "7743 N MILWOOD AVE, 91304 70     7729 N MILWOOD AVE, 91304\n",
      "322    7743 N MILWOOD AVE, 91304\n",
      "Name: Address, dtype: object\n",
      "1836 N NEW HAMPSHIRE AVE, 90027 20    1836 N NEW HAMPSHIRE AVE, 90027\n",
      "21    1836 N NEW HAMPSHIRE AVE, 90027\n",
      "Name: Address, dtype: object\n",
      "5308 N HARMONY AVE, 91601 805    5250 N HARMONY AVE, 91601\n",
      "810    5250 N HARMONY AVE, 91601\n",
      "Name: Address, dtype: object\n",
      "150 W 93RD ST, 90003 379        162 W 92ND ST, 90003\n",
      "815    150 1/2 W 93RD ST, 90003\n",
      "Name: Address, dtype: object\n",
      "1666 E 111TH PL, 90059 409    1660 E 111TH PL, 90059\n",
      "834    1666 E 111TH PL, 90059\n",
      "Name: Address, dtype: object\n"
     ]
    }
   ],
   "source": [
    "for index,row in gdf.head(1000).iterrows():\n",
    "    match_candidates = find_potential_matches(row,gdf)\n",
    "    if len(match_candidates.index):\n",
    "        matches = loc_filter(row.geometry,match_candidates)\n",
    "        \n",
    "        if len(matches.index) > 1:\n",
    "            print(row.Address, matches.Address)\n",
    "    \n",
    "    #print(len(match_reqtypes(row,gdf).index))"
   ]
  },
  {
   "cell_type": "code",
   "execution_count": 111,
   "metadata": {},
   "outputs": [
    {
     "data": {
      "text/plain": [
       "0   2016-01-02 14:29:52\n",
       "1                   NaT\n",
       "2   2016-01-06 09:38:51\n",
       "3   2016-01-02 09:04:07\n",
       "4   2016-01-02 09:02:11\n",
       "Name: ClosedDate, dtype: datetime64[ns]"
      ]
     },
     "execution_count": 111,
     "metadata": {},
     "output_type": "execute_result"
    }
   ],
   "source": [
    "gdf.head().ClosedDate"
   ]
  },
  {
   "cell_type": "code",
   "execution_count": 134,
   "metadata": {},
   "outputs": [
    {
     "data": {
      "text/plain": [
       "Index(['SRNumber', 'CreatedDate', 'UpdatedDate', 'ActionTaken', 'Owner',\n",
       "       'RequestType', 'Status', 'RequestSource', 'MobileOS', 'Anonymous',\n",
       "       'AssignTo', 'ServiceDate', 'ClosedDate', 'AddressVerified',\n",
       "       'ApproximateAddress', 'Address', 'HouseNumber', 'Direction',\n",
       "       'StreetName', 'Suffix', 'ZipCode', 'Latitude', 'Longitude', 'Location',\n",
       "       'TBMPage', 'TBMColumn', 'TBMRow', 'APC', 'CD', 'CDMember', 'NC',\n",
       "       'NCName', 'PolicePrecinct', 'ClosedDiff', 'ServiceDiff',\n",
       "       'ClosedServiceDiff', 'ClosedDiff_Days', 'ServiceDiff_Days',\n",
       "       'ClosedServiceDiff_Days', 'geometry'],\n",
       "      dtype='object')"
      ]
     },
     "execution_count": 134,
     "metadata": {},
     "output_type": "execute_result"
    }
   ],
   "source": [
    "gdf.columns"
   ]
  },
  {
   "cell_type": "code",
   "execution_count": 64,
   "metadata": {},
   "outputs": [
    {
     "data": {
      "text/plain": [
       "'5 days 03:57:10'"
      ]
     },
     "execution_count": 64,
     "metadata": {},
     "output_type": "execute_result"
    }
   ],
   "source": []
  },
  {
   "cell_type": "code",
   "execution_count": null,
   "metadata": {},
   "outputs": [],
   "source": []
  }
 ],
 "metadata": {
  "kernelspec": {
   "display_name": "Python 3",
   "language": "python",
   "name": "python3"
  },
  "language_info": {
   "codemirror_mode": {
    "name": "ipython",
    "version": 3
   },
   "file_extension": ".py",
   "mimetype": "text/x-python",
   "name": "python",
   "nbconvert_exporter": "python",
   "pygments_lexer": "ipython3",
   "version": "3.6.9"
  }
 },
 "nbformat": 4,
 "nbformat_minor": 2
}