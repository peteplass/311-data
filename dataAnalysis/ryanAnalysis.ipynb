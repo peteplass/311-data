{
 "cells": [
  {
   "cell_type": "code",
   "execution_count": 3,
   "metadata": {},
   "outputs": [],
   "source": [
    "import numpy as np\n",
    "import pandas as pd\n",
    "import geopandas as gp\n",
    "import pandas_profiling\n",
    "from datetime import datetime\n",
    "\n",
    "# import seaborn as sb \n",
    "# import json\n",
    "# from shapely.geometry import LineString, Polygon, Point\n",
    "# from shapely import wkt\n",
    "\n",
    "import matplotlib.pyplot as plt\n",
    "%matplotlib inline\n",
    "\n",
    "### display all columns\n",
    "pd.set_option('display.max_columns', None)"
   ]
  },
  {
   "cell_type": "code",
   "execution_count": 4,
   "metadata": {},
   "outputs": [
    {
     "name": "stderr",
     "output_type": "stream",
     "text": [
      "/home/xin/.local/lib/python3.6/site-packages/IPython/core/interactiveshell.py:3058: DtypeWarning: Columns (25) have mixed types. Specify dtype option on import or set low_memory=False.\n",
      "  interactivity=interactivity, compiler=compiler, result=result)\n"
     ]
    },
    {
     "data": {
      "text/html": [
       "<div>\n",
       "<style scoped>\n",
       "    .dataframe tbody tr th:only-of-type {\n",
       "        vertical-align: middle;\n",
       "    }\n",
       "\n",
       "    .dataframe tbody tr th {\n",
       "        vertical-align: top;\n",
       "    }\n",
       "\n",
       "    .dataframe thead th {\n",
       "        text-align: right;\n",
       "    }\n",
       "</style>\n",
       "<table border=\"1\" class=\"dataframe\">\n",
       "  <thead>\n",
       "    <tr style=\"text-align: right;\">\n",
       "      <th></th>\n",
       "      <th>SRNumber</th>\n",
       "      <th>CreatedDate</th>\n",
       "      <th>UpdatedDate</th>\n",
       "      <th>ActionTaken</th>\n",
       "      <th>Owner</th>\n",
       "      <th>RequestType</th>\n",
       "      <th>Status</th>\n",
       "      <th>RequestSource</th>\n",
       "      <th>CreatedByUserOrganization</th>\n",
       "      <th>MobileOS</th>\n",
       "      <th>Anonymous</th>\n",
       "      <th>AssignTo</th>\n",
       "      <th>ServiceDate</th>\n",
       "      <th>ClosedDate</th>\n",
       "      <th>AddressVerified</th>\n",
       "      <th>ApproximateAddress</th>\n",
       "      <th>Address</th>\n",
       "      <th>HouseNumber</th>\n",
       "      <th>Direction</th>\n",
       "      <th>StreetName</th>\n",
       "      <th>Suffix</th>\n",
       "      <th>ZipCode</th>\n",
       "      <th>Latitude</th>\n",
       "      <th>Longitude</th>\n",
       "      <th>Location</th>\n",
       "      <th>TBMPage</th>\n",
       "      <th>TBMColumn</th>\n",
       "      <th>TBMRow</th>\n",
       "      <th>APC</th>\n",
       "      <th>CD</th>\n",
       "      <th>CDMember</th>\n",
       "      <th>NC</th>\n",
       "      <th>NCName</th>\n",
       "      <th>PolicePrecinct</th>\n",
       "    </tr>\n",
       "  </thead>\n",
       "  <tbody>\n",
       "    <tr>\n",
       "      <th>0</th>\n",
       "      <td>1-1262692791</td>\n",
       "      <td>01/01/2019 12:02:05 AM</td>\n",
       "      <td>01/04/2019 11:03:56 AM</td>\n",
       "      <td>SR Created</td>\n",
       "      <td>BOS</td>\n",
       "      <td>Bulky Items</td>\n",
       "      <td>Closed</td>\n",
       "      <td>Self Service</td>\n",
       "      <td>Self Service_SAN</td>\n",
       "      <td>NaN</td>\n",
       "      <td>N</td>\n",
       "      <td>NC</td>\n",
       "      <td>01/04/2019 12:00:00 AM</td>\n",
       "      <td>01/04/2019 11:03:56 AM</td>\n",
       "      <td>Y</td>\n",
       "      <td>N</td>\n",
       "      <td>616 N GRAMERCY PL, 90004</td>\n",
       "      <td>616</td>\n",
       "      <td>N</td>\n",
       "      <td>GRAMERCY</td>\n",
       "      <td>PL</td>\n",
       "      <td>90004.0</td>\n",
       "      <td>34.082258</td>\n",
       "      <td>-118.312461</td>\n",
       "      <td>(34.0822581437, -118.312461304)</td>\n",
       "      <td>593</td>\n",
       "      <td>H</td>\n",
       "      <td>7.0</td>\n",
       "      <td>Central APC</td>\n",
       "      <td>4.0</td>\n",
       "      <td>David Ryu</td>\n",
       "      <td>119.0</td>\n",
       "      <td>GREATER WILSHIRE NC</td>\n",
       "      <td>OLYMPIC</td>\n",
       "    </tr>\n",
       "    <tr>\n",
       "      <th>1</th>\n",
       "      <td>1-1262693531</td>\n",
       "      <td>01/01/2019 12:05:52 AM</td>\n",
       "      <td>01/01/2019 12:09:40 AM</td>\n",
       "      <td>SR Created</td>\n",
       "      <td>LADWP</td>\n",
       "      <td>Report Water Waste</td>\n",
       "      <td>Closed</td>\n",
       "      <td>Mobile App</td>\n",
       "      <td>Self Service</td>\n",
       "      <td>Android</td>\n",
       "      <td>N</td>\n",
       "      <td>NaN</td>\n",
       "      <td>NaN</td>\n",
       "      <td>01/01/2019 12:05:52 AM</td>\n",
       "      <td>Y</td>\n",
       "      <td>NaN</td>\n",
       "      <td>11500 W SAN VICENTE BLVD, 90049</td>\n",
       "      <td>11,500</td>\n",
       "      <td>W</td>\n",
       "      <td>SAN VICENTE</td>\n",
       "      <td>BLVD</td>\n",
       "      <td>90049.0</td>\n",
       "      <td>34.052739</td>\n",
       "      <td>-118.461185</td>\n",
       "      <td>(34.052739298, -118.461184916)</td>\n",
       "      <td>631</td>\n",
       "      <td>J</td>\n",
       "      <td>4.0</td>\n",
       "      <td>West Los Angeles APC</td>\n",
       "      <td>11.0</td>\n",
       "      <td>Mike Bonin</td>\n",
       "      <td>NaN</td>\n",
       "      <td>NaN</td>\n",
       "      <td>WEST LOS ANGELES</td>\n",
       "    </tr>\n",
       "    <tr>\n",
       "      <th>2</th>\n",
       "      <td>1-1262693571</td>\n",
       "      <td>01/01/2019 12:10:52 AM</td>\n",
       "      <td>01/03/2019 12:27:05 AM</td>\n",
       "      <td>SR Created</td>\n",
       "      <td>OCB</td>\n",
       "      <td>Graffiti Removal</td>\n",
       "      <td>Closed</td>\n",
       "      <td>Self Service</td>\n",
       "      <td>Self Service</td>\n",
       "      <td>NaN</td>\n",
       "      <td>N</td>\n",
       "      <td>WVA</td>\n",
       "      <td>01/02/2019 08:43:54 AM</td>\n",
       "      <td>01/03/2019 12:27:05 AM</td>\n",
       "      <td>Y</td>\n",
       "      <td>N</td>\n",
       "      <td>9167 N RESEDA BLVD, 91324</td>\n",
       "      <td>9,167</td>\n",
       "      <td>N</td>\n",
       "      <td>RESEDA</td>\n",
       "      <td>BLVD</td>\n",
       "      <td>91324.0</td>\n",
       "      <td>34.236888</td>\n",
       "      <td>-118.536385</td>\n",
       "      <td>(34.2368883475, -118.53638542)</td>\n",
       "      <td>500</td>\n",
       "      <td>J</td>\n",
       "      <td>7.0</td>\n",
       "      <td>North Valley APC</td>\n",
       "      <td>12.0</td>\n",
       "      <td>Mitchell Englander</td>\n",
       "      <td>113.0</td>\n",
       "      <td>NORTHRIDGE WEST</td>\n",
       "      <td>DEVONSHIRE</td>\n",
       "    </tr>\n",
       "    <tr>\n",
       "      <th>3</th>\n",
       "      <td>1-1262692831</td>\n",
       "      <td>01/01/2019 12:19:53 AM</td>\n",
       "      <td>01/07/2019 09:43:46 AM</td>\n",
       "      <td>SR Created</td>\n",
       "      <td>BOS</td>\n",
       "      <td>Illegal Dumping Pickup</td>\n",
       "      <td>Closed</td>\n",
       "      <td>Self Service</td>\n",
       "      <td>Self Service</td>\n",
       "      <td>NaN</td>\n",
       "      <td>N</td>\n",
       "      <td>WV</td>\n",
       "      <td>01/07/2019 12:00:00 AM</td>\n",
       "      <td>01/07/2019 09:39:12 AM</td>\n",
       "      <td>Y</td>\n",
       "      <td>N</td>\n",
       "      <td>8752 N YOLANDA AVE, 91324</td>\n",
       "      <td>8,752</td>\n",
       "      <td>N</td>\n",
       "      <td>YOLANDA</td>\n",
       "      <td>AVE</td>\n",
       "      <td>91324.0</td>\n",
       "      <td>34.230222</td>\n",
       "      <td>-118.539758</td>\n",
       "      <td>(34.2302221251, -118.539758291)</td>\n",
       "      <td>530</td>\n",
       "      <td>H</td>\n",
       "      <td>1.0</td>\n",
       "      <td>North Valley APC</td>\n",
       "      <td>12.0</td>\n",
       "      <td>Mitchell Englander</td>\n",
       "      <td>124.0</td>\n",
       "      <td>NORTHRIDGE SOUTH NC</td>\n",
       "      <td>DEVONSHIRE</td>\n",
       "    </tr>\n",
       "    <tr>\n",
       "      <th>4</th>\n",
       "      <td>1-1262692061</td>\n",
       "      <td>01/01/2019 12:28:15 AM</td>\n",
       "      <td>01/03/2019 12:28:19 AM</td>\n",
       "      <td>SR Created</td>\n",
       "      <td>OCB</td>\n",
       "      <td>Graffiti Removal</td>\n",
       "      <td>Closed</td>\n",
       "      <td>Self Service</td>\n",
       "      <td>Self Service</td>\n",
       "      <td>NaN</td>\n",
       "      <td>N</td>\n",
       "      <td>WVA</td>\n",
       "      <td>01/02/2019 10:12:35 AM</td>\n",
       "      <td>01/03/2019 12:28:19 AM</td>\n",
       "      <td>Y</td>\n",
       "      <td>N</td>\n",
       "      <td>9055 N RESEDA BLVD, 91324</td>\n",
       "      <td>9,055</td>\n",
       "      <td>N</td>\n",
       "      <td>RESEDA</td>\n",
       "      <td>BLVD</td>\n",
       "      <td>91324.0</td>\n",
       "      <td>34.235078</td>\n",
       "      <td>-118.536392</td>\n",
       "      <td>(34.2350781243, -118.536391683)</td>\n",
       "      <td>500</td>\n",
       "      <td>J</td>\n",
       "      <td>7.0</td>\n",
       "      <td>North Valley APC</td>\n",
       "      <td>12.0</td>\n",
       "      <td>Mitchell Englander</td>\n",
       "      <td>124.0</td>\n",
       "      <td>NORTHRIDGE SOUTH NC</td>\n",
       "      <td>DEVONSHIRE</td>\n",
       "    </tr>\n",
       "  </tbody>\n",
       "</table>\n",
       "</div>"
      ],
      "text/plain": [
       "       SRNumber             CreatedDate             UpdatedDate ActionTaken  \\\n",
       "0  1-1262692791  01/01/2019 12:02:05 AM  01/04/2019 11:03:56 AM  SR Created   \n",
       "1  1-1262693531  01/01/2019 12:05:52 AM  01/01/2019 12:09:40 AM  SR Created   \n",
       "2  1-1262693571  01/01/2019 12:10:52 AM  01/03/2019 12:27:05 AM  SR Created   \n",
       "3  1-1262692831  01/01/2019 12:19:53 AM  01/07/2019 09:43:46 AM  SR Created   \n",
       "4  1-1262692061  01/01/2019 12:28:15 AM  01/03/2019 12:28:19 AM  SR Created   \n",
       "\n",
       "   Owner             RequestType  Status RequestSource  \\\n",
       "0    BOS             Bulky Items  Closed  Self Service   \n",
       "1  LADWP      Report Water Waste  Closed    Mobile App   \n",
       "2    OCB        Graffiti Removal  Closed  Self Service   \n",
       "3    BOS  Illegal Dumping Pickup  Closed  Self Service   \n",
       "4    OCB        Graffiti Removal  Closed  Self Service   \n",
       "\n",
       "  CreatedByUserOrganization MobileOS Anonymous AssignTo  \\\n",
       "0          Self Service_SAN      NaN         N       NC   \n",
       "1              Self Service  Android         N      NaN   \n",
       "2              Self Service      NaN         N      WVA   \n",
       "3              Self Service      NaN         N       WV   \n",
       "4              Self Service      NaN         N      WVA   \n",
       "\n",
       "              ServiceDate              ClosedDate AddressVerified  \\\n",
       "0  01/04/2019 12:00:00 AM  01/04/2019 11:03:56 AM               Y   \n",
       "1                     NaN  01/01/2019 12:05:52 AM               Y   \n",
       "2  01/02/2019 08:43:54 AM  01/03/2019 12:27:05 AM               Y   \n",
       "3  01/07/2019 12:00:00 AM  01/07/2019 09:39:12 AM               Y   \n",
       "4  01/02/2019 10:12:35 AM  01/03/2019 12:28:19 AM               Y   \n",
       "\n",
       "  ApproximateAddress                          Address HouseNumber Direction  \\\n",
       "0                  N         616 N GRAMERCY PL, 90004         616         N   \n",
       "1                NaN  11500 W SAN VICENTE BLVD, 90049      11,500         W   \n",
       "2                  N        9167 N RESEDA BLVD, 91324       9,167         N   \n",
       "3                  N        8752 N YOLANDA AVE, 91324       8,752         N   \n",
       "4                  N        9055 N RESEDA BLVD, 91324       9,055         N   \n",
       "\n",
       "    StreetName Suffix  ZipCode   Latitude   Longitude  \\\n",
       "0     GRAMERCY     PL  90004.0  34.082258 -118.312461   \n",
       "1  SAN VICENTE   BLVD  90049.0  34.052739 -118.461185   \n",
       "2       RESEDA   BLVD  91324.0  34.236888 -118.536385   \n",
       "3      YOLANDA    AVE  91324.0  34.230222 -118.539758   \n",
       "4       RESEDA   BLVD  91324.0  34.235078 -118.536392   \n",
       "\n",
       "                          Location TBMPage TBMColumn  TBMRow  \\\n",
       "0  (34.0822581437, -118.312461304)     593         H     7.0   \n",
       "1   (34.052739298, -118.461184916)     631         J     4.0   \n",
       "2   (34.2368883475, -118.53638542)     500         J     7.0   \n",
       "3  (34.2302221251, -118.539758291)     530         H     1.0   \n",
       "4  (34.2350781243, -118.536391683)     500         J     7.0   \n",
       "\n",
       "                    APC    CD            CDMember     NC               NCName  \\\n",
       "0           Central APC   4.0           David Ryu  119.0  GREATER WILSHIRE NC   \n",
       "1  West Los Angeles APC  11.0          Mike Bonin    NaN                  NaN   \n",
       "2      North Valley APC  12.0  Mitchell Englander  113.0      NORTHRIDGE WEST   \n",
       "3      North Valley APC  12.0  Mitchell Englander  124.0  NORTHRIDGE SOUTH NC   \n",
       "4      North Valley APC  12.0  Mitchell Englander  124.0  NORTHRIDGE SOUTH NC   \n",
       "\n",
       "     PolicePrecinct  \n",
       "0           OLYMPIC  \n",
       "1  WEST LOS ANGELES  \n",
       "2        DEVONSHIRE  \n",
       "3        DEVONSHIRE  \n",
       "4        DEVONSHIRE  "
      ]
     },
     "execution_count": 4,
     "metadata": {},
     "output_type": "execute_result"
    }
   ],
   "source": [
    "df2019 = pd.read_csv('rawdata/MyLA311_Service_Request_Data_2019.csv')\n",
    "df2019.head()"
   ]
  },
  {
   "cell_type": "code",
   "execution_count": 5,
   "metadata": {},
   "outputs": [
    {
     "data": {
      "text/plain": [
       "(1186428, 34)"
      ]
     },
     "execution_count": 5,
     "metadata": {},
     "output_type": "execute_result"
    }
   ],
   "source": [
    "df2019.shape"
   ]
  },
  {
   "cell_type": "code",
   "execution_count": 6,
   "metadata": {},
   "outputs": [
    {
     "data": {
      "text/plain": [
       "0"
      ]
     },
     "execution_count": 6,
     "metadata": {},
     "output_type": "execute_result"
    }
   ],
   "source": [
    "df2019.CreatedDate.isna().sum()"
   ]
  },
  {
   "cell_type": "code",
   "execution_count": 7,
   "metadata": {},
   "outputs": [
    {
     "data": {
      "text/plain": [
       "36337"
      ]
     },
     "execution_count": 7,
     "metadata": {},
     "output_type": "execute_result"
    }
   ],
   "source": [
    "df2019.ClosedDate.isna().sum()"
   ]
  },
  {
   "cell_type": "code",
   "execution_count": 8,
   "metadata": {},
   "outputs": [
    {
     "data": {
      "text/plain": [
       "74540"
      ]
     },
     "execution_count": 8,
     "metadata": {},
     "output_type": "execute_result"
    }
   ],
   "source": [
    "df2019.ServiceDate.isna().sum()"
   ]
  },
  {
   "cell_type": "code",
   "execution_count": 9,
   "metadata": {},
   "outputs": [
    {
     "data": {
      "text/plain": [
       "(24199, 34)"
      ]
     },
     "execution_count": 9,
     "metadata": {},
     "output_type": "execute_result"
    }
   ],
   "source": [
    "df2019_open = df2019[df2019.Status == 'Open']\n",
    "df2019_open.shape"
   ]
  },
  {
   "cell_type": "code",
   "execution_count": 10,
   "metadata": {},
   "outputs": [
    {
     "data": {
      "text/plain": [
       "(7539, 34)"
      ]
     },
     "execution_count": 10,
     "metadata": {},
     "output_type": "execute_result"
    }
   ],
   "source": [
    "# all open-status entries, selected by NA ServiceDates and non-NA CreatedDates\n",
    "\n",
    "df2019_notServiced = df2019_open[df2019_open.ServiceDate.isna() & df2019_open.CreatedDate.notna()]\n",
    "df2019_notServiced.shape"
   ]
  },
  {
   "cell_type": "code",
   "execution_count": 11,
   "metadata": {},
   "outputs": [
    {
     "data": {
      "text/plain": [
       "(24199, 34)"
      ]
     },
     "execution_count": 11,
     "metadata": {},
     "output_type": "execute_result"
    }
   ],
   "source": [
    "# all open-status entries, selected by NA ClosedDates and non-iNA CreatedDates\n",
    "\n",
    "df2019_notClosed = df2019_open[df2019_open.ClosedDate.isna() & df2019_open.CreatedDate.notna()]\n",
    "df2019_notClosed.shape\n",
    "\n",
    "# there are significantly less NA ServiceDates than there are ClosedDates"
   ]
  },
  {
   "cell_type": "code",
   "execution_count": 13,
   "metadata": {},
   "outputs": [
    {
     "name": "stderr",
     "output_type": "stream",
     "text": [
      "/home/xin/.local/lib/python3.6/site-packages/ipykernel_launcher.py:3: SettingWithCopyWarning: \n",
      "A value is trying to be set on a copy of a slice from a DataFrame.\n",
      "Try using .loc[row_indexer,col_indexer] = value instead\n",
      "\n",
      "See the caveats in the documentation: http://pandas.pydata.org/pandas-docs/stable/user_guide/indexing.html#returning-a-view-versus-a-copy\n",
      "  This is separate from the ipykernel package so we can avoid doing imports until\n",
      "/home/xin/.local/lib/python3.6/site-packages/ipykernel_launcher.py:5: SettingWithCopyWarning: \n",
      "A value is trying to be set on a copy of a slice from a DataFrame.\n",
      "Try using .loc[row_indexer,col_indexer] = value instead\n",
      "\n",
      "See the caveats in the documentation: http://pandas.pydata.org/pandas-docs/stable/user_guide/indexing.html#returning-a-view-versus-a-copy\n",
      "  \"\"\"\n",
      "/home/xin/.local/lib/python3.6/site-packages/ipykernel_launcher.py:6: SettingWithCopyWarning: \n",
      "A value is trying to be set on a copy of a slice from a DataFrame.\n",
      "Try using .loc[row_indexer,col_indexer] = value instead\n",
      "\n",
      "See the caveats in the documentation: http://pandas.pydata.org/pandas-docs/stable/user_guide/indexing.html#returning-a-view-versus-a-copy\n",
      "  \n"
     ]
    }
   ],
   "source": [
    "dt_cols = ['CreatedDate','UpdatedDate','ServiceDate','ClosedDate']\n",
    "for col in dt_cols:\n",
    "    df2019_open[col] = pd.to_datetime(df2019_open[col])\n",
    "    \n",
    "df2019_open['ClosedDate_open'] = df2019_open['ClosedDate'].replace(to_replace=pd.NaT, value=datetime.now())\n",
    "df2019_open['ServiceDate_open'] = df2019_open['ServiceDate'].replace(to_replace=pd.NaT, value=datetime.now())"
   ]
  },
  {
   "cell_type": "code",
   "execution_count": 19,
   "metadata": {},
   "outputs": [
    {
     "name": "stderr",
     "output_type": "stream",
     "text": [
      "/home/xin/.local/lib/python3.6/site-packages/ipykernel_launcher.py:10: SettingWithCopyWarning: \n",
      "A value is trying to be set on a copy of a slice from a DataFrame.\n",
      "Try using .loc[row_indexer,col_indexer] = value instead\n",
      "\n",
      "See the caveats in the documentation: http://pandas.pydata.org/pandas-docs/stable/user_guide/indexing.html#returning-a-view-versus-a-copy\n",
      "  # Remove the CWD from sys.path while we load stuff.\n",
      "/home/xin/.local/lib/python3.6/site-packages/ipykernel_launcher.py:11: SettingWithCopyWarning: \n",
      "A value is trying to be set on a copy of a slice from a DataFrame.\n",
      "Try using .loc[row_indexer,col_indexer] = value instead\n",
      "\n",
      "See the caveats in the documentation: http://pandas.pydata.org/pandas-docs/stable/user_guide/indexing.html#returning-a-view-versus-a-copy\n",
      "  # This is added back by InteractiveShellApp.init_path()\n",
      "/home/xin/.local/lib/python3.6/site-packages/ipykernel_launcher.py:12: SettingWithCopyWarning: \n",
      "A value is trying to be set on a copy of a slice from a DataFrame.\n",
      "Try using .loc[row_indexer,col_indexer] = value instead\n",
      "\n",
      "See the caveats in the documentation: http://pandas.pydata.org/pandas-docs/stable/user_guide/indexing.html#returning-a-view-versus-a-copy\n",
      "  if sys.path[0] == '':\n",
      "/home/xin/.local/lib/python3.6/site-packages/ipykernel_launcher.py:13: SettingWithCopyWarning: \n",
      "A value is trying to be set on a copy of a slice from a DataFrame.\n",
      "Try using .loc[row_indexer,col_indexer] = value instead\n",
      "\n",
      "See the caveats in the documentation: http://pandas.pydata.org/pandas-docs/stable/user_guide/indexing.html#returning-a-view-versus-a-copy\n",
      "  del sys.path[0]\n",
      "/home/xin/.local/lib/python3.6/site-packages/ipykernel_launcher.py:14: SettingWithCopyWarning: \n",
      "A value is trying to be set on a copy of a slice from a DataFrame.\n",
      "Try using .loc[row_indexer,col_indexer] = value instead\n",
      "\n",
      "See the caveats in the documentation: http://pandas.pydata.org/pandas-docs/stable/user_guide/indexing.html#returning-a-view-versus-a-copy\n",
      "  \n",
      "/home/xin/.local/lib/python3.6/site-packages/ipykernel_launcher.py:15: SettingWithCopyWarning: \n",
      "A value is trying to be set on a copy of a slice from a DataFrame.\n",
      "Try using .loc[row_indexer,col_indexer] = value instead\n",
      "\n",
      "See the caveats in the documentation: http://pandas.pydata.org/pandas-docs/stable/user_guide/indexing.html#returning-a-view-versus-a-copy\n",
      "  from ipykernel import kernelapp as app\n"
     ]
    },
    {
     "data": {
      "text/html": [
       "<div>\n",
       "<style scoped>\n",
       "    .dataframe tbody tr th:only-of-type {\n",
       "        vertical-align: middle;\n",
       "    }\n",
       "\n",
       "    .dataframe tbody tr th {\n",
       "        vertical-align: top;\n",
       "    }\n",
       "\n",
       "    .dataframe thead th {\n",
       "        text-align: right;\n",
       "    }\n",
       "</style>\n",
       "<table border=\"1\" class=\"dataframe\">\n",
       "  <thead>\n",
       "    <tr style=\"text-align: right;\">\n",
       "      <th></th>\n",
       "      <th>SRNumber</th>\n",
       "      <th>CreatedDate</th>\n",
       "      <th>UpdatedDate</th>\n",
       "      <th>ActionTaken</th>\n",
       "      <th>Owner</th>\n",
       "      <th>RequestType</th>\n",
       "      <th>Status</th>\n",
       "      <th>RequestSource</th>\n",
       "      <th>CreatedByUserOrganization</th>\n",
       "      <th>MobileOS</th>\n",
       "      <th>Anonymous</th>\n",
       "      <th>AssignTo</th>\n",
       "      <th>ServiceDate</th>\n",
       "      <th>ClosedDate</th>\n",
       "      <th>AddressVerified</th>\n",
       "      <th>ApproximateAddress</th>\n",
       "      <th>Address</th>\n",
       "      <th>HouseNumber</th>\n",
       "      <th>Direction</th>\n",
       "      <th>StreetName</th>\n",
       "      <th>Suffix</th>\n",
       "      <th>ZipCode</th>\n",
       "      <th>Latitude</th>\n",
       "      <th>Longitude</th>\n",
       "      <th>Location</th>\n",
       "      <th>TBMPage</th>\n",
       "      <th>TBMColumn</th>\n",
       "      <th>TBMRow</th>\n",
       "      <th>APC</th>\n",
       "      <th>CD</th>\n",
       "      <th>CDMember</th>\n",
       "      <th>NC</th>\n",
       "      <th>NCName</th>\n",
       "      <th>PolicePrecinct</th>\n",
       "      <th>ClosedDate_open</th>\n",
       "      <th>ServiceDate_open</th>\n",
       "      <th>ClosedDiff</th>\n",
       "      <th>ServiceDiff</th>\n",
       "      <th>ClosedServiceDiff</th>\n",
       "      <th>ClosedDiff_Days</th>\n",
       "      <th>ServiceDiff_Days</th>\n",
       "      <th>ClosedServiceDiff_Days</th>\n",
       "    </tr>\n",
       "  </thead>\n",
       "  <tbody>\n",
       "    <tr>\n",
       "      <th>146</th>\n",
       "      <td>1-1262715591</td>\n",
       "      <td>2019-01-01 09:41:28</td>\n",
       "      <td>2019-01-01 09:41:28</td>\n",
       "      <td>SR Created</td>\n",
       "      <td>OCB</td>\n",
       "      <td>Graffiti Removal</td>\n",
       "      <td>Open</td>\n",
       "      <td>Self Service</td>\n",
       "      <td>Self Service</td>\n",
       "      <td>NaN</td>\n",
       "      <td>N</td>\n",
       "      <td>GCS</td>\n",
       "      <td>NaT</td>\n",
       "      <td>NaT</td>\n",
       "      <td>Y</td>\n",
       "      <td>N</td>\n",
       "      <td>14045 W FOOTHILL BLVD, 91342</td>\n",
       "      <td>14,045</td>\n",
       "      <td>W</td>\n",
       "      <td>FOOTHILL</td>\n",
       "      <td>BLVD</td>\n",
       "      <td>91342.0</td>\n",
       "      <td>34.314603</td>\n",
       "      <td>-118.439434</td>\n",
       "      <td>(34.31460335, -118.439433747)</td>\n",
       "      <td>482</td>\n",
       "      <td>B</td>\n",
       "      <td>3.0</td>\n",
       "      <td>North Valley APC</td>\n",
       "      <td>7.0</td>\n",
       "      <td>Monica Rodriguez</td>\n",
       "      <td>5.0</td>\n",
       "      <td>SYLMAR NC</td>\n",
       "      <td>MISSION</td>\n",
       "      <td>2019-12-03 09:29:23.711879</td>\n",
       "      <td>2019-12-03 09:29:23.714324</td>\n",
       "      <td>335 days 23:47:55.711879</td>\n",
       "      <td>335 days 23:47:55.714324</td>\n",
       "      <td>-1 days +23:59:59.997555</td>\n",
       "      <td>335.991617</td>\n",
       "      <td>335.991617</td>\n",
       "      <td>0.0</td>\n",
       "    </tr>\n",
       "    <tr>\n",
       "      <th>640</th>\n",
       "      <td>1-1262787021</td>\n",
       "      <td>2019-01-01 15:24:26</td>\n",
       "      <td>2019-01-01 15:24:26</td>\n",
       "      <td>SR Created</td>\n",
       "      <td>BSL</td>\n",
       "      <td>Single Streetlight Issue</td>\n",
       "      <td>Open</td>\n",
       "      <td>Call</td>\n",
       "      <td>ITA</td>\n",
       "      <td>NaN</td>\n",
       "      <td>N</td>\n",
       "      <td>WEST</td>\n",
       "      <td>NaT</td>\n",
       "      <td>NaT</td>\n",
       "      <td>Y</td>\n",
       "      <td>Y</td>\n",
       "      <td>179 S GRETNA GREEN WAY, 90049</td>\n",
       "      <td>179</td>\n",
       "      <td>S</td>\n",
       "      <td>GRETNA GREEN</td>\n",
       "      <td>WAY</td>\n",
       "      <td>90049.0</td>\n",
       "      <td>34.056297</td>\n",
       "      <td>-118.477903</td>\n",
       "      <td>(34.0562973, -118.47790277)</td>\n",
       "      <td>631</td>\n",
       "      <td>G</td>\n",
       "      <td>4.0</td>\n",
       "      <td>West Los Angeles APC</td>\n",
       "      <td>11.0</td>\n",
       "      <td>Mike Bonin</td>\n",
       "      <td>NaN</td>\n",
       "      <td>NaN</td>\n",
       "      <td>WEST LOS ANGELES</td>\n",
       "      <td>2019-12-03 09:29:23.711879</td>\n",
       "      <td>2019-12-03 09:29:23.714324</td>\n",
       "      <td>335 days 18:04:57.711879</td>\n",
       "      <td>335 days 18:04:57.714324</td>\n",
       "      <td>-1 days +23:59:59.997555</td>\n",
       "      <td>335.753446</td>\n",
       "      <td>335.753446</td>\n",
       "      <td>0.0</td>\n",
       "    </tr>\n",
       "    <tr>\n",
       "      <th>1197</th>\n",
       "      <td>1-1262865381</td>\n",
       "      <td>2019-01-01 23:33:40</td>\n",
       "      <td>2019-01-01 23:33:42</td>\n",
       "      <td>SR Created</td>\n",
       "      <td>BSL</td>\n",
       "      <td>Single Streetlight Issue</td>\n",
       "      <td>Open</td>\n",
       "      <td>Mobile App</td>\n",
       "      <td>Self Service</td>\n",
       "      <td>iOS</td>\n",
       "      <td>N</td>\n",
       "      <td>CENTRAL</td>\n",
       "      <td>NaT</td>\n",
       "      <td>NaT</td>\n",
       "      <td>Y</td>\n",
       "      <td>NaN</td>\n",
       "      <td>6337 W LEXINGTON AVE, 90038</td>\n",
       "      <td>6,337</td>\n",
       "      <td>W</td>\n",
       "      <td>LEXINGTON</td>\n",
       "      <td>AVE</td>\n",
       "      <td>90038.0</td>\n",
       "      <td>34.092586</td>\n",
       "      <td>-118.328096</td>\n",
       "      <td>(34.09258594, -118.32809629)</td>\n",
       "      <td>593</td>\n",
       "      <td>F</td>\n",
       "      <td>5.0</td>\n",
       "      <td>Central APC</td>\n",
       "      <td>13.0</td>\n",
       "      <td>Mitch O'Farrell</td>\n",
       "      <td>32.0</td>\n",
       "      <td>CENTRAL HOLLYWOOD NC</td>\n",
       "      <td>HOLLYWOOD</td>\n",
       "      <td>2019-12-03 09:29:23.711879</td>\n",
       "      <td>2019-12-03 09:29:23.714324</td>\n",
       "      <td>335 days 09:55:43.711879</td>\n",
       "      <td>335 days 09:55:43.714324</td>\n",
       "      <td>-1 days +23:59:59.997555</td>\n",
       "      <td>335.413700</td>\n",
       "      <td>335.413700</td>\n",
       "      <td>0.0</td>\n",
       "    </tr>\n",
       "    <tr>\n",
       "      <th>1515</th>\n",
       "      <td>1-1262946441</td>\n",
       "      <td>2019-01-02 08:28:08</td>\n",
       "      <td>2019-01-02 08:28:08</td>\n",
       "      <td>SR Created</td>\n",
       "      <td>BSL</td>\n",
       "      <td>Single Streetlight Issue</td>\n",
       "      <td>Open</td>\n",
       "      <td>Call</td>\n",
       "      <td>ITA</td>\n",
       "      <td>NaN</td>\n",
       "      <td>N</td>\n",
       "      <td>WEST</td>\n",
       "      <td>NaT</td>\n",
       "      <td>NaT</td>\n",
       "      <td>Y</td>\n",
       "      <td>Y</td>\n",
       "      <td>2701 S MALCOLM AVE, 90064</td>\n",
       "      <td>2,701</td>\n",
       "      <td>S</td>\n",
       "      <td>MALCOLM</td>\n",
       "      <td>AVE</td>\n",
       "      <td>90064.0</td>\n",
       "      <td>34.035851</td>\n",
       "      <td>-118.422713</td>\n",
       "      <td>(34.03585118, -118.42271302)</td>\n",
       "      <td>632</td>\n",
       "      <td>D</td>\n",
       "      <td>6.0</td>\n",
       "      <td>West Los Angeles APC</td>\n",
       "      <td>5.0</td>\n",
       "      <td>Paul Koretz</td>\n",
       "      <td>62.0</td>\n",
       "      <td>WESTSIDE NC</td>\n",
       "      <td>WEST LOS ANGELES</td>\n",
       "      <td>2019-12-03 09:29:23.711879</td>\n",
       "      <td>2019-12-03 09:29:23.714324</td>\n",
       "      <td>335 days 01:01:15.711879</td>\n",
       "      <td>335 days 01:01:15.714324</td>\n",
       "      <td>-1 days +23:59:59.997555</td>\n",
       "      <td>335.042543</td>\n",
       "      <td>335.042543</td>\n",
       "      <td>0.0</td>\n",
       "    </tr>\n",
       "    <tr>\n",
       "      <th>3070</th>\n",
       "      <td>1-1263286141</td>\n",
       "      <td>2019-01-02 12:34:55</td>\n",
       "      <td>2019-01-02 12:34:55</td>\n",
       "      <td>SR Created</td>\n",
       "      <td>BSL</td>\n",
       "      <td>Single Streetlight Issue</td>\n",
       "      <td>Open</td>\n",
       "      <td>Call</td>\n",
       "      <td>BOS</td>\n",
       "      <td>NaN</td>\n",
       "      <td>N</td>\n",
       "      <td>NORTH</td>\n",
       "      <td>NaT</td>\n",
       "      <td>NaT</td>\n",
       "      <td>Y</td>\n",
       "      <td>Y</td>\n",
       "      <td>3901 N VALLEY MEADOW ROAD, 91436</td>\n",
       "      <td>3,901</td>\n",
       "      <td>N</td>\n",
       "      <td>VALLEY MEADOW</td>\n",
       "      <td>ROAD</td>\n",
       "      <td>91436.0</td>\n",
       "      <td>34.141242</td>\n",
       "      <td>-118.478677</td>\n",
       "      <td>(34.14124157, -118.478677339999)</td>\n",
       "      <td>561</td>\n",
       "      <td>F</td>\n",
       "      <td>6.0</td>\n",
       "      <td>South Valley APC</td>\n",
       "      <td>5.0</td>\n",
       "      <td>Paul Koretz</td>\n",
       "      <td>18.0</td>\n",
       "      <td>ENCINO NC</td>\n",
       "      <td>WEST VALLEY</td>\n",
       "      <td>2019-12-03 09:29:23.711879</td>\n",
       "      <td>2019-12-03 09:29:23.714324</td>\n",
       "      <td>334 days 20:54:28.711879</td>\n",
       "      <td>334 days 20:54:28.714324</td>\n",
       "      <td>-1 days +23:59:59.997555</td>\n",
       "      <td>334.871166</td>\n",
       "      <td>334.871166</td>\n",
       "      <td>0.0</td>\n",
       "    </tr>\n",
       "  </tbody>\n",
       "</table>\n",
       "</div>"
      ],
      "text/plain": [
       "          SRNumber         CreatedDate         UpdatedDate ActionTaken Owner  \\\n",
       "146   1-1262715591 2019-01-01 09:41:28 2019-01-01 09:41:28  SR Created   OCB   \n",
       "640   1-1262787021 2019-01-01 15:24:26 2019-01-01 15:24:26  SR Created   BSL   \n",
       "1197  1-1262865381 2019-01-01 23:33:40 2019-01-01 23:33:42  SR Created   BSL   \n",
       "1515  1-1262946441 2019-01-02 08:28:08 2019-01-02 08:28:08  SR Created   BSL   \n",
       "3070  1-1263286141 2019-01-02 12:34:55 2019-01-02 12:34:55  SR Created   BSL   \n",
       "\n",
       "                   RequestType Status RequestSource CreatedByUserOrganization  \\\n",
       "146           Graffiti Removal   Open  Self Service              Self Service   \n",
       "640   Single Streetlight Issue   Open          Call                       ITA   \n",
       "1197  Single Streetlight Issue   Open    Mobile App              Self Service   \n",
       "1515  Single Streetlight Issue   Open          Call                       ITA   \n",
       "3070  Single Streetlight Issue   Open          Call                       BOS   \n",
       "\n",
       "     MobileOS Anonymous AssignTo ServiceDate ClosedDate AddressVerified  \\\n",
       "146       NaN         N      GCS         NaT        NaT               Y   \n",
       "640       NaN         N     WEST         NaT        NaT               Y   \n",
       "1197      iOS         N  CENTRAL         NaT        NaT               Y   \n",
       "1515      NaN         N     WEST         NaT        NaT               Y   \n",
       "3070      NaN         N    NORTH         NaT        NaT               Y   \n",
       "\n",
       "     ApproximateAddress                           Address HouseNumber  \\\n",
       "146                   N      14045 W FOOTHILL BLVD, 91342      14,045   \n",
       "640                   Y     179 S GRETNA GREEN WAY, 90049         179   \n",
       "1197                NaN       6337 W LEXINGTON AVE, 90038       6,337   \n",
       "1515                  Y         2701 S MALCOLM AVE, 90064       2,701   \n",
       "3070                  Y  3901 N VALLEY MEADOW ROAD, 91436       3,901   \n",
       "\n",
       "     Direction     StreetName Suffix  ZipCode   Latitude   Longitude  \\\n",
       "146          W       FOOTHILL   BLVD  91342.0  34.314603 -118.439434   \n",
       "640          S   GRETNA GREEN    WAY  90049.0  34.056297 -118.477903   \n",
       "1197         W      LEXINGTON    AVE  90038.0  34.092586 -118.328096   \n",
       "1515         S        MALCOLM    AVE  90064.0  34.035851 -118.422713   \n",
       "3070         N  VALLEY MEADOW   ROAD  91436.0  34.141242 -118.478677   \n",
       "\n",
       "                              Location TBMPage TBMColumn  TBMRow  \\\n",
       "146      (34.31460335, -118.439433747)     482         B     3.0   \n",
       "640        (34.0562973, -118.47790277)     631         G     4.0   \n",
       "1197      (34.09258594, -118.32809629)     593         F     5.0   \n",
       "1515      (34.03585118, -118.42271302)     632         D     6.0   \n",
       "3070  (34.14124157, -118.478677339999)     561         F     6.0   \n",
       "\n",
       "                       APC    CD          CDMember    NC  \\\n",
       "146       North Valley APC   7.0  Monica Rodriguez   5.0   \n",
       "640   West Los Angeles APC  11.0        Mike Bonin   NaN   \n",
       "1197           Central APC  13.0   Mitch O'Farrell  32.0   \n",
       "1515  West Los Angeles APC   5.0       Paul Koretz  62.0   \n",
       "3070      South Valley APC   5.0       Paul Koretz  18.0   \n",
       "\n",
       "                    NCName    PolicePrecinct            ClosedDate_open  \\\n",
       "146              SYLMAR NC           MISSION 2019-12-03 09:29:23.711879   \n",
       "640                    NaN  WEST LOS ANGELES 2019-12-03 09:29:23.711879   \n",
       "1197  CENTRAL HOLLYWOOD NC         HOLLYWOOD 2019-12-03 09:29:23.711879   \n",
       "1515           WESTSIDE NC  WEST LOS ANGELES 2019-12-03 09:29:23.711879   \n",
       "3070             ENCINO NC       WEST VALLEY 2019-12-03 09:29:23.711879   \n",
       "\n",
       "               ServiceDate_open               ClosedDiff  \\\n",
       "146  2019-12-03 09:29:23.714324 335 days 23:47:55.711879   \n",
       "640  2019-12-03 09:29:23.714324 335 days 18:04:57.711879   \n",
       "1197 2019-12-03 09:29:23.714324 335 days 09:55:43.711879   \n",
       "1515 2019-12-03 09:29:23.714324 335 days 01:01:15.711879   \n",
       "3070 2019-12-03 09:29:23.714324 334 days 20:54:28.711879   \n",
       "\n",
       "                  ServiceDiff        ClosedServiceDiff  ClosedDiff_Days  \\\n",
       "146  335 days 23:47:55.714324 -1 days +23:59:59.997555       335.991617   \n",
       "640  335 days 18:04:57.714324 -1 days +23:59:59.997555       335.753446   \n",
       "1197 335 days 09:55:43.714324 -1 days +23:59:59.997555       335.413700   \n",
       "1515 335 days 01:01:15.714324 -1 days +23:59:59.997555       335.042543   \n",
       "3070 334 days 20:54:28.714324 -1 days +23:59:59.997555       334.871166   \n",
       "\n",
       "      ServiceDiff_Days  ClosedServiceDiff_Days  \n",
       "146         335.991617                     0.0  \n",
       "640         335.753446                     0.0  \n",
       "1197        335.413700                     0.0  \n",
       "1515        335.042543                     0.0  \n",
       "3070        334.871166                     0.0  "
      ]
     },
     "execution_count": 19,
     "metadata": {},
     "output_type": "execute_result"
    }
   ],
   "source": [
    "def dt_to_days(dt):\n",
    "    if not pd.isnull(dt):\n",
    "        num_days = pd.Timedelta.total_seconds(dt)/(24.*3600)\n",
    "        if num_days <= .000001:\n",
    "            return 0\n",
    "        return pd.Timedelta.total_seconds(dt)/(24.*3600)\n",
    "    else:\n",
    "        return np.NaN\n",
    "\n",
    "df2019_open['ClosedDiff'] = df2019_open.ClosedDate_open - df2019_open.CreatedDate\n",
    "df2019_open['ServiceDiff'] = df2019_open.ServiceDate_open - df2019_open.CreatedDate\n",
    "df2019_open['ClosedServiceDiff'] = df2019_open.ClosedDate_open - df2019_open.ServiceDate_open\n",
    "df2019_open['ClosedDiff_Days'] = df2019_open.ClosedDiff.apply(dt_to_days)\n",
    "df2019_open['ServiceDiff_Days'] = df2019_open.ServiceDiff.apply(dt_to_days)\n",
    "df2019_open['ClosedServiceDiff_Days'] = df2019_open.ClosedServiceDiff.apply(dt_to_days)\n",
    "\n",
    "df2019_open.head()"
   ]
  },
  {
   "cell_type": "code",
   "execution_count": 35,
   "metadata": {},
   "outputs": [
    {
     "data": {
      "text/plain": [
       "array([[<matplotlib.axes._subplots.AxesSubplot object at 0x7fad429771d0>]],\n",
       "      dtype=object)"
      ]
     },
     "execution_count": 35,
     "metadata": {},
     "output_type": "execute_result"
    },
    {
     "data": {
      "image/png": "[encoded data removed]",
      "text/plain": [
       "<Figure size 1008x720 with 1 Axes>"
      ]
     },
     "metadata": {
      "needs_background": "light"
     },
     "output_type": "display_data"
    }
   ],
   "source": [
    "# for all ongoing requests, show how long they've been open for. As expected, the majority are recent\n",
    "\n",
    "df2019_open.hist(column='ClosedDiff_Days', bins=35, figsize=(14, 10))"
   ]
  },
  {
   "cell_type": "code",
   "execution_count": 34,
   "metadata": {},
   "outputs": [
    {
     "data": {
      "text/plain": [
       "<matplotlib.axes._subplots.AxesSubplot at 0x7fad4296fd68>"
      ]
     },
     "execution_count": 34,
     "metadata": {},
     "output_type": "execute_result"
    },
    {
     "data": {
      "image/png": "[encoded data removed]",
      "text/plain": [
       "<Figure size 1008x720 with 1 Axes>"
      ]
     },
     "metadata": {
      "needs_background": "light"
     },
     "output_type": "display_data"
    }
   ],
   "source": [
    "# these are for only the entries that has a  ServiceDate but not a ClosedDate\n",
    "# there are disproportionate number of old requests that are still open; perhaps overlooked requests?\n",
    "\n",
    "df2019_open.loc[df2019_open.ServiceDate.notna(), 'ClosedDiff_Days'].plot.hist(bins=35, figsize=(14,10))"
   ]
  },
  {
   "cell_type": "code",
   "execution_count": 37,
   "metadata": {},
   "outputs": [
    {
     "data": {
      "text/plain": [
       "array([[<matplotlib.axes._subplots.AxesSubplot object at 0x7fad42778240>]],\n",
       "      dtype=object)"
      ]
     },
     "execution_count": 37,
     "metadata": {},
     "output_type": "execute_result"
    },
    {
     "data": {
      "image/png": "[encoded data removed]",
      "text/plain": [
       "<Figure size 1008x720 with 1 Axes>"
      ]
     },
     "metadata": {
      "needs_background": "light"
     },
     "output_type": "display_data"
    }
   ],
   "source": [
    "# these are for the entries that has NA for both service and closed dates\n",
    "\n",
    "df2019_open.hist(column='ServiceDiff_Days', bins=35, figsize=(14, 10))"
   ]
  },
  {
   "cell_type": "code",
   "execution_count": 36,
   "metadata": {},
   "outputs": [
    {
     "data": {
      "text/plain": [
       "<matplotlib.axes._subplots.AxesSubplot at 0x7fad427fb358>"
      ]
     },
     "execution_count": 36,
     "metadata": {},
     "output_type": "execute_result"
    },
    {
     "data": {
      "image/png": "[encoded data removed]",
      "text/plain": [
       "<Figure size 1008x720 with 1 Axes>"
      ]
     },
     "metadata": {
      "needs_background": "light"
     },
     "output_type": "display_data"
    }
   ],
   "source": [
    "# open requests by RequestType\n",
    "\n",
    "df2019_open['RequestType'].value_counts().plot(kind='bar', figsize=(14, 10))"
   ]
  },
  {
   "cell_type": "code",
   "execution_count": 46,
   "metadata": {},
   "outputs": [
    {
     "data": {
      "image/png": "[encoded data removed]",
      "text/plain": [
       "<Figure size 1008x720 with 1 Axes>"
      ]
     },
     "metadata": {
      "needs_background": "light"
     },
     "output_type": "display_data"
    }
   ],
   "source": [
    "def plot_open_by_request(request,serviced=False):\n",
    "    if serviced == 'both':\n",
    "        df2019_open.loc[df2019_open['RequestType'] == request, 'ClosedDiff_Days'].plot.hist(bins=35, figsize=(14,10))\n",
    "    elif serviced:\n",
    "        df2019_open.loc[(df2019_open['RequestType'] == request) & (df2019_open.ServiceDate.notna()), 'ClosedDiff_Days'].plot.hist(bins=35, figsize=(14,10))\n",
    "    else:\n",
    "        df2019_open.loc[df2019_open['RequestType'] == request, 'ServiceDiff_Days'].plot.hist(bins=35, figsize=(14,10))\n",
    "\n",
    "plot_open_by_request('Bulky Items', serviced=False)"
   ]
  },
  {
   "cell_type": "code",
   "execution_count": null,
   "metadata": {},
   "outputs": [],
   "source": []
  }
 ],
 "metadata": {
  "file_extension": ".py",
  "kernelspec": {
   "display_name": "Python 3",
   "language": "python",
   "name": "python3"
  },
  "language_info": {
   "codemirror_mode": {
    "name": "ipython",
    "version": 3
   },
   "file_extension": ".py",
   "mimetype": "text/x-python",
   "name": "python",
   "nbconvert_exporter": "python",
   "pygments_lexer": "ipython3",
   "version": "3.6.9"
  },
  "mimetype": "text/x-python",
  "name": "python",
  "npconvert_exporter": "python",
  "pygments_lexer": "ipython3",
  "version": 3
 },
 "nbformat": 4,
 "nbformat_minor": 2
}
